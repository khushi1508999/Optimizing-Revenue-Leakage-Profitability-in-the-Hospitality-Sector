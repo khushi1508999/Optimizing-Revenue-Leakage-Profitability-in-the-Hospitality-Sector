{
  "nbformat": 4,
  "nbformat_minor": 0,
  "metadata": {
    "colab": {
      "provenance": []
    },
    "kernelspec": {
      "name": "python3",
      "display_name": "Python 3"
    },
    "language_info": {
      "name": "python"
    }
  },
  "cells": [
    {
      "cell_type": "markdown",
      "source": [
        "# **Project Title: Optimizing Revenue Leakage & Profitability in the Hospitality Sector** (Module D: Business Justification)"
      ],
      "metadata": {
        "id": "j6y0l3TTO3pE"
      }
    },
    {
      "cell_type": "markdown",
      "source": [
        "## **Step 1: Importing Required Libraries**\n",
        "We begin by importing essential libraries"
      ],
      "metadata": {
        "id": "I-wbwKF4PeNo"
      }
    },
    {
      "cell_type": "code",
      "source": [
        "import pandas as pd\n",
        "import numpy as np\n",
        "import matplotlib.pyplot as plt\n",
        "import seaborn as sns\n",
        "\n",
        "# Set aesthetics for plots\n",
        "sns.set(style='whitegrid')\n",
        "plt.rcParams['figure.figsize'] = (12, 6)"
      ],
      "metadata": {
        "id": "Fq2IiVxpPfiA"
      },
      "execution_count": 15,
      "outputs": []
    },
    {
      "cell_type": "markdown",
      "source": [
        "## **Step 2: Uploading and Reading the Dataset**\n",
        "We'll upload the necessary CSV files and load them into Pandas dataframes."
      ],
      "metadata": {
        "id": "f3zYAKZxPl1X"
      }
    },
    {
      "cell_type": "code",
      "source": [
        "# Load dataframes\n",
        "date_df = pd.read_csv(\"dim_date.csv\")\n",
        "bookings_df = pd.read_csv(\"fact_bookings.csv\")\n",
        "hotels_df = pd.read_csv(\"dim_hotels.csv\")\n",
        "rooms_df = pd.read_csv(\"dim_rooms.csv\")\n",
        "agg_bookings_df = pd.read_csv(\"fact_aggregated_bookings.csv\")"
      ],
      "metadata": {
        "id": "gEbAamrZPp13"
      },
      "execution_count": 16,
      "outputs": []
    },
    {
      "cell_type": "markdown",
      "source": [
        "## **Step 3: Preprocess the bookings data**"
      ],
      "metadata": {
        "id": "S5Rrv1GunzCt"
      }
    },
    {
      "cell_type": "code",
      "source": [
        "# Step 3: Preprocess the bookings data\n",
        "bookings_df = bookings_df[bookings_df['booking_status'].notna()]\n",
        "bookings_df['booking_status'] = bookings_df['booking_status'].str.lower()"
      ],
      "metadata": {
        "id": "a-HXw2j9ntNy"
      },
      "execution_count": 17,
      "outputs": []
    },
    {
      "cell_type": "markdown",
      "source": [
        "## **Step 4: Calculate total lost revenue from cancellations**"
      ],
      "metadata": {
        "id": "Rn6b4ugAn9ro"
      }
    },
    {
      "cell_type": "code",
      "source": [
        "bookings_df['revenue_generated'] = pd.to_numeric(bookings_df['revenue_generated'], errors='coerce')\n",
        "cancelled_revenue_loss = bookings_df[bookings_df['booking_status'] == 'cancelled']['revenue_generated'].sum()\n",
        "print(f\"Total Lost Revenue from Cancellations: Rs. {cancelled_revenue_loss:,.0f}\")"
      ],
      "metadata": {
        "colab": {
          "base_uri": "https://localhost:8080/"
        },
        "id": "XQdUwyOgoiGe",
        "outputId": "d1353988-8920-49a8-b88d-b3017a2ca6f3"
      },
      "execution_count": 18,
      "outputs": [
        {
          "output_type": "stream",
          "name": "stdout",
          "text": [
            "Total Lost Revenue from Cancellations: Rs. 497,958,310\n"
          ]
        }
      ]
    },
    {
      "cell_type": "markdown",
      "source": [
        "## **Step 5: Estimate revenue recovery with improved cancellation policy**"
      ],
      "metadata": {
        "id": "dReLnh9vn90-"
      }
    },
    {
      "cell_type": "code",
      "source": [
        "# Assumption: 20% of cancellations can be retained with improved policies\n",
        "retention_rate = 0.20\n",
        "recoverable_revenue = cancelled_revenue_loss * retention_rate\n",
        "print(f\"Estimated Recoverable Revenue (20% Retention): Rs. {recoverable_revenue:,.0f}\")"
      ],
      "metadata": {
        "colab": {
          "base_uri": "https://localhost:8080/"
        },
        "id": "e-dQLWgSooN0",
        "outputId": "6e12f644-aee3-4dad-f19b-332f3169140d"
      },
      "execution_count": 19,
      "outputs": [
        {
          "output_type": "stream",
          "name": "stdout",
          "text": [
            "Estimated Recoverable Revenue (20% Retention): Rs. 99,591,662\n"
          ]
        }
      ]
    },
    {
      "cell_type": "markdown",
      "source": [
        "## **Step 6: Cost of Implementation Assumption**"
      ],
      "metadata": {
        "id": "dIeoL_GGn976"
      }
    },
    {
      "cell_type": "code",
      "source": [
        "policy_implementation_cost = 200000  # Rs. 2 lakh as an example investment\n",
        "print(f\"Implementation Cost: Rs. {policy_implementation_cost:,.0f}\")"
      ],
      "metadata": {
        "colab": {
          "base_uri": "https://localhost:8080/"
        },
        "id": "ohX6ukZFor9c",
        "outputId": "c219afdd-5ae3-48ff-a653-9c6d4517b74d"
      },
      "execution_count": 20,
      "outputs": [
        {
          "output_type": "stream",
          "name": "stdout",
          "text": [
            "Implementation Cost: Rs. 200,000\n"
          ]
        }
      ]
    },
    {
      "cell_type": "markdown",
      "source": [
        "## **Step 7: ROI Calculation**"
      ],
      "metadata": {
        "id": "-BZY--kyn-AG"
      }
    },
    {
      "cell_type": "code",
      "source": [
        "roi = (recoverable_revenue - policy_implementation_cost) / policy_implementation_cost\n",
        "print(f\"Estimated ROI: {roi*100:.2f}%\")"
      ],
      "metadata": {
        "colab": {
          "base_uri": "https://localhost:8080/"
        },
        "id": "7zQUM_dlovW2",
        "outputId": "2d3e2108-1a39-4062-939c-cff6bf5e2815"
      },
      "execution_count": 21,
      "outputs": [
        {
          "output_type": "stream",
          "name": "stdout",
          "text": [
            "Estimated ROI: 49695.83%\n"
          ]
        }
      ]
    },
    {
      "cell_type": "markdown",
      "source": [
        "## **Step 8: Payback Period Calculation (in months)**"
      ],
      "metadata": {
        "id": "vape_gYmn-Go"
      }
    },
    {
      "cell_type": "code",
      "source": [
        "monthly_gain = recoverable_revenue / 12  # spread across one year\n",
        "payback_period = policy_implementation_cost / monthly_gain\n",
        "print(f\"Estimated Payback Period: {payback_period:.2f} months\")"
      ],
      "metadata": {
        "colab": {
          "base_uri": "https://localhost:8080/"
        },
        "id": "-UoMVHsooyuu",
        "outputId": "15986fee-9654-4227-9258-cfb8cdf42d23"
      },
      "execution_count": 22,
      "outputs": [
        {
          "output_type": "stream",
          "name": "stdout",
          "text": [
            "Estimated Payback Period: 0.02 months\n"
          ]
        }
      ]
    },
    {
      "cell_type": "markdown",
      "source": [
        "## **Step 9: Scenario Analysis**"
      ],
      "metadata": {
        "id": "bg840v1wn-K5"
      }
    },
    {
      "cell_type": "code",
      "source": [
        "scenarios = pd.DataFrame({\n",
        "    'Scenario': ['Best Case', 'Most Likely', 'Worst Case'],\n",
        "    'Retention Rate': [0.30, 0.20, 0.10]\n",
        "})\n",
        "scenarios['Recoverable Revenue'] = scenarios['Retention Rate'] * cancelled_revenue_loss\n",
        "scenarios['ROI'] = (scenarios['Recoverable Revenue'] - policy_implementation_cost) / policy_implementation_cost\n",
        "scenarios['Payback Period (months)'] = policy_implementation_cost / (scenarios['Recoverable Revenue'] / 12)\n",
        "\n",
        "# Display scenarios\n",
        "print(\"\\n--- Scenario Analysis ---\")\n",
        "print(scenarios)\n",
        "\n",
        "# Plot ROI scenarios\n",
        "sns.barplot(data=scenarios, x='Scenario', y='ROI')\n",
        "plt.title('ROI under Different Scenarios')\n",
        "plt.ylabel('ROI')\n",
        "plt.xlabel('Scenario')\n",
        "plt.axhline(0, color='gray', linestyle='--')\n",
        "plt.show()\n",
        "\n",
        "# Plot payback period\n",
        "sns.barplot(data=scenarios, x='Scenario', y='Payback Period (months)', palette='muted')\n",
        "plt.title('Payback Period under Different Scenarios')\n",
        "plt.ylabel('Months')\n",
        "plt.xlabel('Scenario')\n",
        "plt.show()"
      ],
      "metadata": {
        "colab": {
          "base_uri": "https://localhost:8080/",
          "height": 1000
        },
        "id": "lt4u-FJRo12w",
        "outputId": "d2aabe68-b9d3-4b46-944c-dbd89317f495"
      },
      "execution_count": 23,
      "outputs": [
        {
          "output_type": "stream",
          "name": "stdout",
          "text": [
            "\n",
            "--- Scenario Analysis ---\n",
            "      Scenario  Retention Rate  Recoverable Revenue         ROI  \\\n",
            "0    Best Case             0.3          149387493.0  745.937465   \n",
            "1  Most Likely             0.2           99591662.0  496.958310   \n",
            "2   Worst Case             0.1           49795831.0  247.979155   \n",
            "\n",
            "   Payback Period (months)  \n",
            "0                 0.016066  \n",
            "1                 0.024098  \n",
            "2                 0.048197  \n"
          ]
        },
        {
          "output_type": "display_data",
          "data": {
            "text/plain": [
              "<Figure size 1200x600 with 1 Axes>"
            ],
            "image/png": "[encoded data removed]"
          },
          "metadata": {}
        },
        {
          "output_type": "stream",
          "name": "stderr",
          "text": [
            "<ipython-input-23-42fa4e41e8a7>:22: FutureWarning: \n",
            "\n",
            "Passing `palette` without assigning `hue` is deprecated and will be removed in v0.14.0. Assign the `x` variable to `hue` and set `legend=False` for the same effect.\n",
            "\n",
            "  sns.barplot(data=scenarios, x='Scenario', y='Payback Period (months)', palette='muted')\n"
          ]
        },
        {
          "output_type": "display_data",
          "data": {
            "text/plain": [
              "<Figure size 1200x600 with 1 Axes>"
            ],
            "image/png": "[encoded data removed]"
          },
          "metadata": {}
        }
      ]
    },
    {
      "cell_type": "markdown",
      "source": [
        "## **Interpretation and Analysis**\n",
        "\n",
        "This Google Colaboratory notebook provides a data-driven analysis focused on quantifying revenue leakage due to cancellations in the hospitality sector and evaluating the potential financial benefits of implementing an improved cancellation policy. The analysis follows a structured approach, moving from data loading and preprocessing to calculating key financial metrics and conducting a scenario analysis.\n",
        "\n",
        "The initial steps involve importing necessary Python libraries, including `pandas` for data manipulation, `numpy` for numerical operations, and `matplotlib.pyplot` and `seaborn` for data visualization. The aesthetic settings for plots are configured to ensure clear and visually appealing outputs.\n",
        "\n",
        "Subsequently, the code loads five different CSV files into pandas DataFrames: `dim_date.csv`, `fact_bookings.csv`, `dim_hotels.csv`, `dim_rooms.csv`, and `fact_aggregated_bookings.csv`. This indicates that the analysis is likely based on a dataset representing bookings, hotel details, room types, and possibly date-related information.\n",
        "\n",
        "The core of the analysis begins with preprocessing the `bookings_df`. This involves handling potential missing values in the 'booking_status' column by dropping rows where it is missing. It also standardizes the 'booking_status' entries by converting them to lowercase, which is crucial for consistent filtering and analysis.\n",
        "\n",
        "A key calculation is the total lost revenue from cancellations. The 'revenue_generated' column is converted to a numeric type, coercing any non-numeric values into missing values to prevent errors during summation. The code then filters the `bookings_df` to select only the rows where the 'booking_status' is 'cancelled' and sums the 'revenue_generated' for these filtered rows. This sum represents the total revenue lost due to bookings that were ultimately cancelled. The result is printed in a user-friendly format.\n",
        "\n",
        "Building upon the calculated lost revenue, the analysis then estimates the potential revenue recovery if an improved cancellation policy were implemented. An assumption is made that a 20% retention rate of cancelled bookings is achievable with the new policy. The recoverable revenue is calculated by multiplying the total lost revenue from cancellations by this 20% retention rate. This provides a tangible figure for the potential financial upside of the proposed policy.\n",
        "\n",
        "To evaluate the financial viability of this improved policy, the analysis introduces an assumed cost of implementation, set at Rs. 200,000. This figure represents the potential investment required for developing, communicating, and enforcing the new policy.\n",
        "\n",
        "With the estimated recoverable revenue and the implementation cost, the code calculates the Return on Investment (ROI). The ROI is computed using the standard formula: (Net Profit / Cost of Investment) * 100. In this context, the net profit is the recoverable revenue minus the implementation cost. The ROI is then printed as a percentage, indicating the efficiency of the investment.\n",
        "\n",
        "Furthermore, the payback period is calculated. This metric determines how long it will take for the accumulated monthly gains from the recoverable revenue to equal the initial implementation cost. The monthly gain is estimated by dividing the total recoverable revenue (based on the 20% retention rate) by 12, assuming the recovery is spread over a year. The payback period is then calculated by dividing the implementation cost by this estimated monthly gain, giving a result in months.\n",
        "\n",
        "Recognizing the uncertainty in the assumed retention rate, the notebook performs a scenario analysis. It defines three scenarios: 'Best Case', 'Most Likely', and 'Worst Case', with corresponding retention rates of 30%, 20%, and 10%. For each scenario, the recoverable revenue, ROI, and payback period are calculated. This allows for a more robust assessment of the policy's potential outcomes under different levels of success in retaining cancellations.\n",
        "\n",
        "The results of the scenario analysis are presented in a clear DataFrame format. This table provides a direct comparison of the key financial metrics across the different scenarios.\n",
        "\n",
        "Finally, the analysis visually presents the results of the scenario analysis using bar plots. A bar plot shows the ROI for each scenario, making it easy to compare the potential return on investment across the best, most likely, and worst cases. Another bar plot illustrates the payback period for each scenario, providing a visual representation of how quickly the investment is expected to be recovered under different retention rates. The inclusion of a horizontal line at y=0 on the ROI plot helps to clearly distinguish between positive and negative ROI scenarios.\n",
        "\n",
        "In summary, this Google Colab file provides a practical and well-structured approach to evaluating the financial impact of cancellations in the hospitality sector. It quantifies the revenue leakage, estimates potential recovery with an improved policy, calculates key financial metrics like ROI and payback period, and incorporates a valuable scenario analysis to assess the policy's performance under varying conditions. The visual outputs enhance the interpretability of the results, making it easier to understand the potential benefits and risks associated with the proposed intervention. The code is clear and follows a logical flow, making it easy to understand and potentially adapt for similar analyses in other contexts."
      ],
      "metadata": {
        "id": "s3AOGjFeo7SK"
      }
    }
  ]
}